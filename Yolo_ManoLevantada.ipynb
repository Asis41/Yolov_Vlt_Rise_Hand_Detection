{
 "cells": [
  {
   "cell_type": "code",
   "execution_count": 1,
   "id": "dc3ea632",
   "metadata": {},
   "outputs": [],
   "source": [
    "from ultralytics import YOLO\n",
    "import cv2\n",
    "from transformers import ViltProcessor, ViltForQuestionAnswering\n",
    "import requests\n",
    "from PIL import Image\n",
    "import matplotlib.pyplot as plt\n",
    "from gtts import gTTS\n",
    "import numpy as np\n",
    "import IPython.display as display\n",
    "import translators as ts\n",
    "\n",
    "\n",
    "# Leer nuestro modelo\n",
    "model_yolo = YOLO(\"best.pt\")\n",
    "\n",
    "processor = ViltProcessor.from_pretrained(\"dandelin/vilt-b32-finetuned-vqa\")\n",
    "model = ViltForQuestionAnswering.from_pretrained(\"dandelin/vilt-b32-finetuned-vqa\")"
   ]
  },
  {
   "cell_type": "code",
   "execution_count": 2,
   "id": "d35c4344",
   "metadata": {},
   "outputs": [],
   "source": [
    "def describe_person(image):\n",
    "    description = []\n",
    "    \n",
    "    #text = \"Is a man or a woman?\"\n",
    "    #encoding = processor(image, text, return_tensors=\"pt\")\n",
    "    #outputs = model(**encoding)\n",
    "    #logits = outputs.logits\n",
    "    #idx = logits.argmax(-1).item()\n",
    "    #description.append(\"A \" + model.config.id2label[idx])\n",
    "    \n",
    "    text = \"What is the color of  the pants?\"\n",
    "    encoding = processor(image, text, return_tensors=\"pt\")\n",
    "    outputs = model(**encoding)\n",
    "    logits = outputs.logits\n",
    "    idx = logits.argmax(-1).item()\n",
    "    description.append(\"A person with \" + model.config.id2label[idx] + \" pants, \")\n",
    "    \n",
    "    text = \"What is the color of  the shirt ?\"\n",
    "    encoding = processor(image, text, return_tensors=\"pt\")\n",
    "    outputs = model(**encoding)\n",
    "    logits = outputs.logits\n",
    "    idx = logits.argmax(-1).item()\n",
    "    description.append(\"and \" + model.config.id2label[idx] + \" shirt\" )\n",
    "    \n",
    "    #text = \"What color is the jacket?\"\n",
    "    #encoding = processor(image, text, return_tensors=\"pt\")\n",
    "    #outputs = model(**encoding)\n",
    "    #logits = outputs.logits\n",
    "    #idx = logits.argmax(-1).item()\n",
    "    #description.append(model.config.id2label[idx] + \" jacket\")\n",
    "    \n",
    "    return description"
   ]
  },
  {
   "cell_type": "code",
   "execution_count": 3,
   "id": "d55d4590",
   "metadata": {
    "scrolled": true
   },
   "outputs": [
    {
     "name": "stdout",
     "output_type": "stream",
     "text": [
      "Una persona con pantalones negros y camisa naranja\n"
     ]
    },
    {
     "data": {
      "text/html": [
       "\n",
       "                <audio  controls=\"controls\" autoplay=\"autoplay\">\n",
       "                    <source src=\"data:audio/mpeg;base64,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\" type=\"audio/mpeg\" />\n",
       "                    Your browser does not support the audio element.\n",
       "                </audio>\n",
       "              "
      ],
      "text/plain": [
       "<IPython.lib.display.Audio object>"
      ]
     },
     "execution_count": 3,
     "metadata": {},
     "output_type": "execute_result"
    }
   ],
   "source": [
    "#Realizar VideoCaptura\n",
    "#cap = cv2.VideoCapture(0)\n",
    "#frame = cv2.imread(\"/kaggle/input/data-tst/ima 1.png\")\n",
    "\n",
    "\n",
    "# Realizar VideoCaptura\n",
    "cap = cv2.VideoCapture(0)\n",
    "corte = 0\n",
    "\n",
    "# Bucle\n",
    "while True:\n",
    "\n",
    "    ret, frame = cap.read()\n",
    "    \n",
    "    \n",
    "    # Leemos resultados\n",
    "    resultados = model_yolo.predict(frame, imgsz=640, conf=0.60, verbose=False)    \n",
    "        \n",
    "    boxes = resultados[0].boxes.xyxy.tolist()\n",
    "    classes = resultados[0].boxes.cls.tolist()\n",
    "    names = resultados[0].names\n",
    "    confidences = resultados[0].boxes.conf.tolist()\n",
    "        \n",
    "    #print(boxes , classes , names , confidences)\n",
    "    \n",
    "    # Mostramos resultados\n",
    "    anotaciones = resultados[0].plot()\n",
    "    \n",
    "    try:\n",
    "        indice = classes.index(1)        \n",
    "        crop_img=frame[int(boxes[indice][1]): int(boxes[indice][3]), int(boxes[indice][0]) : int(boxes[indice][2])]        \n",
    "    except:\n",
    "        pass    \n",
    "    \n",
    "    #Etiqueta\n",
    "    if 1 in classes:  \n",
    "        cv2.imshow(\"DETECCION Y SEGMENTACION\", crop_img)\n",
    "        \n",
    "        crop_img = cv2.cvtColor(crop_img, cv2.COLOR_BGR2RGB)\n",
    "        descripcion = describe_person(crop_img)\n",
    "        cadena = \"\".join(descripcion)\n",
    "        cadena = ts.translate_text(cadena, translator='google', to_language='es')\n",
    "        language = 'es'\n",
    "        myobj = gTTS(text=cadena, lang=language, slow=False)   \n",
    "        myobj.save(\"welcome.mp3\")          \n",
    "        print(cadena) \n",
    "             \n",
    "        \n",
    "        #corte = 1\n",
    "    try:\n",
    "        crop_img_color = cv2.cvtColor(crop_img, cv2.COLOR_BGR2RGB)\n",
    "        cv2.imshow(\"ImgCut\", crop_img_color)\n",
    "    except:\n",
    "        pass\n",
    "    cv2.imshow(\"DETECCION Y SEGMENTACION\", anotaciones)\n",
    "    # Cerrar nuestro programa\n",
    "    if cv2.waitKey(1) == 27 or corte == 1:\n",
    "        break\n",
    "    \n",
    "cap.release()\n",
    "cv2.destroyAllWindows()    #display.Audio(\"/kaggle/working/welcome.mp3\", autoplay=True)# audio \n",
    "display.Audio(\"welcome.mp3\", autoplay=True)"
   ]
  },
  {
   "cell_type": "code",
   "execution_count": null,
   "id": "26d90e3b-a23f-4f9c-9830-6bbb75c84849",
   "metadata": {},
   "outputs": [],
   "source": [
    "# Realizar VideoCaptura\n",
    "cap = cv2.VideoCapture(0)\n",
    "\n",
    "# Bucle\n",
    "while True:\n",
    "    # Leer nuestros fotogramas\n",
    "    ret, frame = cap.read()\n",
    "\n",
    "    # Leemos resultados\n",
    "    resultados = model_yolo.predict(frame, imgsz=640, conf=0.60)\n",
    "\n",
    "    # Mostramos resultados\n",
    "    anotaciones = resultados[0].plot()\n",
    "\n",
    "    # Mostramos nuestros fotogramas\n",
    "    cv2.imshow(\"DETECCION Y SEGMENTACION\", anotaciones)\n",
    "\n",
    "    # Cerrar nuestro programa\n",
    "    if cv2.waitKey(1) == 27:\n",
    "        break\n",
    "\n",
    "cap.release()\n",
    "cv2.destroyAllWindows()"
   ]
  },
  {
   "cell_type": "code",
   "execution_count": 6,
   "id": "ea160be1",
   "metadata": {
    "execution": {
     "iopub.execute_input": "2024-04-23T20:30:03.746811Z",
     "iopub.status.busy": "2024-04-23T20:30:03.745952Z",
     "iopub.status.idle": "2024-04-23T20:30:03.754205Z",
     "shell.execute_reply": "2024-04-23T20:30:03.753123Z",
     "shell.execute_reply.started": "2024-04-23T20:30:03.746779Z"
    }
   },
   "outputs": [
    {
     "data": {
      "text/html": [
       "\n",
       "                <audio  controls=\"controls\" autoplay=\"autoplay\">\n",
       "                    <source src=\"data:audio/mpeg;base64,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\" type=\"audio/mpeg\" />\n",
       "                    Your browser does not support the audio element.\n",
       "                </audio>\n",
       "              "
      ],
      "text/plain": [
       "<IPython.lib.display.Audio object>"
      ]
     },
     "execution_count": 6,
     "metadata": {},
     "output_type": "execute_result"
    }
   ],
   "source": [
    "display.Audio(\"/kaggle/working/welcome.mp3\", autoplay=True)"
   ]
  },
  {
   "cell_type": "code",
   "execution_count": 78,
   "id": "c489d43e",
   "metadata": {
    "execution": {
     "iopub.execute_input": "2024-04-22T16:31:54.147332Z",
     "iopub.status.busy": "2024-04-22T16:31:54.146002Z",
     "iopub.status.idle": "2024-04-22T16:31:54.152998Z",
     "shell.execute_reply": "2024-04-22T16:31:54.151801Z",
     "shell.execute_reply.started": "2024-04-22T16:31:54.147296Z"
    }
   },
   "outputs": [
    {
     "name": "stdout",
     "output_type": "stream",
     "text": [
      "El número 0 existe en la lista\n",
      "El número 50 está en la posición 0 de la lista\n"
     ]
    }
   ],
   "source": [
    "if 0 in classes: # Imprime lo de abajo\n",
    "    print(\"El número 0 existe en la lista\")\n",
    "    \n",
    "indice = classes.index(0)\n",
    "print(\"El número 50 está en la posición {} de la lista\".format(indice))"
   ]
  },
  {
   "cell_type": "code",
   "execution_count": 16,
   "id": "c92acce0",
   "metadata": {},
   "outputs": [
    {
     "name": "stdout",
     "output_type": "stream",
     "text": [
      "[]\n"
     ]
    }
   ],
   "source": [
    "classes = resultados[0].boxes.cls.tolist()\n",
    "print(classes)"
   ]
  },
  {
   "cell_type": "code",
   "execution_count": 31,
   "id": "30728df7",
   "metadata": {},
   "outputs": [],
   "source": [
    "# Bucle\n",
    "while True:\n",
    "    \n",
    "    crop_img=anotaciones[3:480, 98 : 499]\n",
    "    \n",
    "    # Mostramos nuestros fotogramas\n",
    "    cv2.imshow(\"DETECCION Y SEGMENTACION\", anotaciones)\n",
    "    \n",
    "    cv2.imshow(\"Persona\", crop_img )\n",
    "\n",
    "    # Cerrar nuestro programa\n",
    "    if cv2.waitKey(1) == 27:\n",
    "        break\n",
    "\n",
    "cap.release()\n",
    "cv2.destroyAllWindows()"
   ]
  },
  {
   "cell_type": "code",
   "execution_count": 23,
   "id": "07e08480",
   "metadata": {},
   "outputs": [
    {
     "data": {
      "text/plain": [
       "499.49896240234375"
      ]
     },
     "execution_count": 23,
     "metadata": {},
     "output_type": "execute_result"
    }
   ],
   "source": [
    "boxes[0][2]"
   ]
  },
  {
   "cell_type": "code",
   "execution_count": 30,
   "id": "6456e79d",
   "metadata": {},
   "outputs": [
    {
     "name": "stdout",
     "output_type": "stream",
     "text": [
      "Predicted answer: no\n"
     ]
    }
   ],
   "source": [
    "# prepare image + question\n",
    "url = \"https://img.freepik.com/foto-gratis/foto-joven-atractivo-modelo-pie-levantando-mano-foto-alta-calidad_144627-60066.jpg\"\n",
    "#image = Image.open(\"/kaggle/input/data-tst/WhatsApp Image 2024-04-19 at 13.12.20_52ef439e.jpg\")\n",
    "#image = Image.open(requests.get(url, stream=True).raw)\n",
    "text = \"Is he with the hand rise?\"\n",
    "\n",
    "processor = ViltProcessor.from_pretrained(\"dandelin/vilt-b32-finetuned-vqa\")\n",
    "model = ViltForQuestionAnswering.from_pretrained(\"dandelin/vilt-b32-finetuned-vqa\")\n",
    "\n",
    "# prepare inputs\n",
    "encoding = processor(crop_img, text, return_tensors=\"pt\")\n",
    "\n",
    "# forward pass\n",
    "outputs = model(**encoding)\n",
    "logits = outputs.logits\n",
    "idx = logits.argmax(-1).item()\n",
    "print(\"Predicted answer:\", model.config.id2label[idx])"
   ]
  },
  {
   "cell_type": "code",
   "execution_count": 4,
   "id": "03f68fc9",
   "metadata": {
    "execution": {
     "iopub.execute_input": "2024-04-23T19:35:47.987092Z",
     "iopub.status.busy": "2024-04-23T19:35:47.986391Z",
     "iopub.status.idle": "2024-04-23T19:35:48.137748Z",
     "shell.execute_reply": "2024-04-23T19:35:48.136885Z",
     "shell.execute_reply.started": "2024-04-23T19:35:47.987056Z"
    }
   },
   "outputs": [
    {
     "name": "stderr",
     "output_type": "stream",
     "text": [
      "sh: 1: start: not found\n"
     ]
    },
    {
     "data": {
      "text/plain": [
       "32512"
      ]
     },
     "execution_count": 4,
     "metadata": {},
     "output_type": "execute_result"
    }
   ],
   "source": [
    "# Import the required module for text \n",
    "# to speech conversion\n",
    "from gtts import gTTS\n",
    "\n",
    "# This module is imported so that we can \n",
    "# play the converted audio\n",
    "import os\n",
    "\n",
    "# The text that you want to convert to audio\n",
    "mytext = 'Welcome to geeksforgeeks!'\n",
    "\n",
    "# Language in which you want to convert\n",
    "language = 'en'\n",
    "\n",
    "# Passing the text and language to the engine, \n",
    "# here we have marked slow=False. Which tells \n",
    "# the module that the converted audio should \n",
    "# have a high speed\n",
    "myobj = gTTS(text=mytext, lang=language, slow=False)\n",
    "\n",
    "# Saving the converted audio in a mp3 file named\n",
    "# welcome \n",
    "myobj.save(\"welcome.mp3\")\n",
    "\n"
   ]
  },
  {
   "cell_type": "code",
   "execution_count": 6,
   "id": "eb08ac39",
   "metadata": {
    "execution": {
     "iopub.execute_input": "2024-04-23T19:39:06.341718Z",
     "iopub.status.busy": "2024-04-23T19:39:06.341336Z",
     "iopub.status.idle": "2024-04-23T19:39:06.350847Z",
     "shell.execute_reply": "2024-04-23T19:39:06.349856Z",
     "shell.execute_reply.started": "2024-04-23T19:39:06.341692Z"
    }
   },
   "outputs": [
    {
     "data": {
      "text/html": [
       "\n",
       "                <audio  controls=\"controls\" autoplay=\"autoplay\">\n",
       "                    <source src=\"data:audio/mpeg;base64,//NExAAAAANIAUAAAP9YimASAIBv9Sxa6Q8c/60si8t4HPB2+Hw+LkFBcQH/2zBxmX/9Opf7fYRNopP/8762MSMC385vnwUSHB4J//n+OUkGmGlKbKYPA7N0MDNEqPOO//NExFMRmdpIAZkoAONt2k4SKTLRUMVhkyeazF4kMmCYweKR4PKwlp17twX4sO/TTMI3KpYLjAaGJIgAsFBHBuIYjmxLjBZZfioLHPdeiZApTuMDxXM/+E/+N75uqiom//NExF8fkZpMAdxAAFHHwTQNDBwzCL4ff22VL3IobKOC6EvAiCYuCE5cpwRqnkrWWRYwGVjuKDErqYHIZiQAiIOmJiSMtwz4EjAIBXAuUSCF5FvE6H3Vuco1Aby/NzsP//NExDMeOapkAOYMlOFDUlEcgmpv78To975nrHm11H55cnV7kkIQVR45Gc//b////597IUYpibUZ3OVzgYHSC8Vv//kJM+s+onDySgAY8g+LlyecvW6jdzCDc4xKDhiG//NExA0UwY6UANvKlOnfhnppwQAAgWBFWwMo9QDAoFY2H+oTLJWHQu+4Mc7zP+GCt8f03/vPySM7Ec4urkKd1+3765FMICgCDiCAXfQx/////+rC9/OyYxbleuWrcFDI//NExA0UeZKoANYMlIOyRTxmrFzBDrQ2+55V0qUiXQlcorxoKnAz1rwJzr4tPrXv1+f/94J5f5wkB7mAYIBhdN2xPf28f/yz3uNqBNOqLQh8Ksf1+EvAAI0fSVJXUh81//NExA4V0aKwAM4QlClr/54aiYKw/HMP1xilJ+X9WBUKeaGZ2cul7Ei7W9fdwSvxgiJ8OgJi9UMsHAAYj13IzT+E4/GH6cQIQufdNYsOsrAmj/////pq+oJAK9p2ZA1Q//NExAkSOaq4AI4alFNSZYbqCpELMcvw+NQJvX6kq6V/17e6RuwVQ3md//qF4oXzI2NLtMR6NekkG0MhkcyL/1J/MTNP0UkK1zIv19PW/53AdCGs7e6G/UTuBabz0Vu3//NExBMXMa6wAM4QlFUlgQOLXs+6trptc/62RGN3IpS5VZKhTF7f7+QWu/EyHp7/AhAtF3nUgFYND45JD0+79TT+/kw95vUl3e+g5OAUcFsVe3////+tz/9bqNLDMpfn//NExAkTubqwAMzQlHuZR4xKEXcyMR+BpoRc92JoHLQmaawzkLHy1UmxND6Ky0VbS19cS1/xIy/yRUDBH3W1Ep38dCk8xFDnqFiaHpHNY9xlrtbG/+tzSHUHMXfopyPr//NExA0UecKsAMwOlGgTaRA3QuYgDw7HOmZkXgbkBvxmtBzEP6GxIqfUW/0/Kt+R+oPiTs8cAFLt1G5FNUHEN3qD41nLmDQeJlse7Gf////6F8fw32kZGV6TuNNhXBCB//NExA4SMbaoAMyKlPJgxSoms4L0A4SC2SSLADZEGKpgmmkJ5KyPnH/b9/y/lfuQDAM6sZSH93amhBZ5isMHoHBUY/0///+hlksq26i0jItLouNNNeoUygEEs9gt7LK7//NExBgRIbaUAVloADrKoGxmp/EWYISBMRwEUumA7j/qTb/////0S6a1Jan+i39FFGoyNv/////5ZQVSrERSN3Lzo7nLYkSRawSr1+pLLYHyqWlD/cwkYlCY7gPEtUmK//NExCYbIlJkAZlYACLScZAil6WyE4WnJRW81S2N43/Tbc6W8Tz/DeP63T3TWPuY4bzMwz+6uLajTkpvt+z4niafvqI3yrLzg4Pe344daT6yteElhBpdn550hKfm7Dq0//NExAwTuRK4AYlgANOWb0EcFNfTwpKKmGWLH+MOSDgrHYYmBmDZeUD+k/MzNaQzjOC4B5cPiM+Gzpr3nzChiWFr7/HK9KP//oA+owgVBJK3lsp5eYCiYeaiPFfP29bn//NExBAPeRa4AcYwAPsy2S1Go97WUNYkav0gYfZjN/c0xjhsMIFaV87cJxG0Pk/bnGKPq9k7///SihX717HIEDF/ExDjBgOh8VLB2GT+T6a7f3pu37kya8V8Fka891FP//NExCUQ4Ra0AHrMcBuZ2jpix+p6JWZxcUTUwaD6waJADUk8lkwR3OR//pXeP69uwrMyT6t6kX0Ck4HvtaJixPTNWTzpnWRINOlaY8B9XNKJjZZaQaEB5qiI4Az1DooL//NExDQTAZq4AMsKlAAE9f3f0OfW4cFEMPFhxzZoKnCC0YDnqt/z+IznDKlzF8MpGmPCG+deqPRHivsUBpb7gRBOTW9mwD0Dw/c6sNYtCiRWd48C0UqovoUvOivnGFob//NExDsRKYawAMrKlCHDorWOPPkPZKqpdqR9nhUWTJZYeA4CsU7EAPCG0bI1ra28pHnVFICygTntskjM2tzuXtrlA8k71e21tNCc1f1gNZ0VndaEfFaOpf///7Wi1YRF//NExEkRmQaYANyWcGagFLYwkLTyQzJhS1OVzRIAgG/lhNBdFPzr9aZqlcZqAkay6ZBrf+oQ5/CZxr/6gDTlprs+j/U/mywdKK0////ZQoOqUL7JCGUp5xR2XAiMEMVA//NExFUQ6QKMAOTScCGBgVbxyvU2tf/93f3ERXiFYzfXOCltcHTahKlZ1ajzVaXs+hVPSZ8KDYHpQzOdX9/zTUqqeQ1uPFsHV2ZXrkqxPd01JvVZJNjqqavs+mkikk36//NExGQRULKMAVswAEdQXUyDmLpp2bqUiy1LNElpJpft3dJOtaTOxucTJRA4l/+Xzc3M3LhNGDHItxMCUMCQIQ8xbA6xMkRMy6Ex//8Y5HMyXUSY82L5fJcoJp4lgnYt//NExHEgKyq4AYloAEL2SoyhOA5gScnCWDwJ5K3///////7f/7/9rasQyzN3pZL1UyGOFlHOcYJCIFBQ8goHho0UM5jGGFYxlFBY4UUREBYWKRHqys9WFamMYaU52UaH//NExEMRcxLQAcAoAUccBeeKACCJNTFJmN/////yr5kk53BZ2m3b/t+vVpjoVGEhcUESlajsn3tch1GHKHgZWMHg8ZVKYXtq2bmdkqUpWVBZHw6WgqqTMknW98ZkZUtd//NExFASMrLAADhKuLVaeEMyK1LvAFbX8tUrqv3Q+fp/hSF5phQxykLs4c2MAghOExQXNo+6//boruttRI8eEXiGsTDB5ZH0///Wy/tRu5gRVLIcG5gSAq4dUBRRtQ74//NExFoROaq4AMIKlJCni1fBVP6Jz+Q8n7zYeiGQuyogzO3FQHzOJhJ71Pr0ZNanOBsLCUEr8YGv///9VaLX2grabg6WLTpISBgZ16IXGI6BBxKmUaUmVfqr2MK4ZE2W//NExGgRGR60ANFWcDxI04eCwDQcjVxMAEJSjYVA6KkbDxLqb6/530OHiSsmqEh4FdENKmRFz4MSWPwxNO/R+R8lqLlVVwMAFGZTHwcRGWreZrfpy0zuVOu3eZzZfKOJ//NExHYSSbKgAMjOlCRcJEWcFAOYsFw5KZ3rcn/LHrFddTBCMxkGHgEx0+OLrB42TuAoYYqIKeL3Q/CX2nquDtTure/yz5rOS8Ne98vyn9jGcb9WBOTLAVXZeilZJNi9//NExH8QGQ5sANMMcFz5CNq///7f/9IbxfwaBbU+I46u7cjkARK7i7FvFs5uo0E+HoJ/5o6CAjI0DHKP1m70xZjcFkMUfm0FMfMFJnC4S4ignAIACjAmHVfso0NJ40AZ//NExJER+R5UAVsYACDaC+hURBhii9/11LTP3ceAwZaRR+EyLonhJf/+ze9RQNTIxJU4ZpnT5h///2/86mUHWYpLTWkZE8p1xuZYxEgoPZjk/3SW6Sd3LuOOP67/MNb9//NExJwg2yp4AY9oAPY/uqhnv1D5l+EM2qgSfNKEAoJCx4nA2jTaTbIwNt4ppGTvhtVNf5GDHyOYm2zs8QEnAQutKpCQ//+7/+CClfYV4D+EhVKWUw2wrN1fwy/V/Cn6//NExGsVkaqoAdhIABm82r8zOrT/+aOgTHNdY5MT0f67bDocz9/61OY5+32dj3LfE/bLMpGZ75df8FVH/////f/U53W7j0gzFXXNxgsAhGfVPhvq/xHoC/943/+FJPvG//NExGcSOba4AJiYlGKeQT9f7xS8x8bkYzNfZpmkVYv/iA1Y/zuM0zbpAjKJw3/Dk+Y/d///1aahSvSDIABeks90hKZLPzXNh/8Br39X/4bCVeaTIqFRphkExgTKMSYR//NExHESobq4AMCelJLc6YRvjk5Y+7hHWVFoJyeHzq8HNp6NNM////6v6qbFM4SIEsar6ujvEiPLPMfz8ZPtP/+ZmbTv57LrL7DpOKIyaJInFIwx02SrU881HG10bMx2//NExHkRMbLAAJBSlMrZ5ZDGh+oraquHJjuoB////93+mt6/KyNxkNf3oCw3V5+hJvM/f29/f2/1m37rFpa8kJYIgQBUHh5MYE6FIVHx/EWyYjGllLjFCXy1cJ2lm0KA//NExIcSIba8AHhYlPWZo0CrWf///6bWOvRcE04ctN2DrX+duCvN5vX1///xv/V4uv36hi+RGDiVTOoz4Xb7TqHAfa1LDi/0vX/c1vLuLC3Amdoa9jQGt7xVnrrWWpwA//NExJER8bK4AMCSlB2CBMs/1sFkI0wzvFEKIzPnQ2n/////XNv7SRq0cl9Kn8Lqsl5Wk6yUtuz3H9vqta5rXNsWtrwmKNB7CoZTpcdwsDaGo2tQcDmGgmqcgYcmaz2G//NExJwRIbasAMCelKJV5K/PcKaXczx///v6217//+2ceg+GJ5YCYKcQoSgtD0RLkTsh9zVRzas62c1Js040oLRCSnJaXKaSuELgMyCMJjmRii6d4sriDH2cQBGK1XLI//NExKoRsbaYAHielddih1B4w+biGS7HByPAPfPztyDgQA0LHQ+H0RJM59CcUGjnGQqrxNpfTY6j36SmauFgyeTe3tCz5YwYOFxNp8wnPx1e8R+1TI4s8XKQyXn//n+O//NExLYR4apsAVpQAb3nn6jr/+ByDT5Yxhx5tikZlLhFM8UBA1J2RBhJ0vemWEAbpGqp9i5qHwkAcHSUGZBNPpuOPNyQdHe0WAWBowOK2/wTTNjGrkxJMxGxu//67fbH//NExMEfeypMAZpAACBbUKrs///OVbOtmigX8rKWTP///6s5vl1Qn0O4tG8dxaCWFzpaugaT3////vv9lWhT468yLlZJ+yyfS+rC/81F7////////6trfTrikm/bvLb3//NExJYgKyqkAYZYANn1u4+Y+b3+t83f/u/7//v/rcnX+/zHb/Mp4bGlo+FTsBLvUwHQJuG1slONvyca7mPkoAiak1odB1p5e9P4cRSLOLTQoXYIWBB9////LhXIoev0//NExGgXqw68AcEwAXft///betqra1llXyfdXQyVUqqzMqnewx7JS6EGEEQ6xkBTsgoOFUqk9HFBIXYPmAcquQwoRUCI4eHqL//////9//9f9//////bT6aNzNTZjKXL//NExFwQ2xa8AABKubuVc92PY8oYWPTrVEMmDpzDQaHiWeyFTyhQo08sqmIK0EwoJFBwYE5USzgXkweloVU//9f///99//rA3Pn//////+XknD0rsjmZXtiUn4jnjIc0//NExGsSCxq8AAhOvQ4JRRAYYMByBgJkNiOUEAhYGFOAoPVQUsOhBNKqCcjOClE0MeEm9NYVGRfcTlkQf4S/4vmERa+ENO8c2407/O9//v+bOmQIzNAIVmxrYz6lGiqj//NExHUSku7EAAhGuQZyDMc01SdlFl0FVP9KiS7uxr8st//f5f/rySL1btxojI/ZpXddrpqmoNDSnZtmheOEZLWCkDQybiencvP41gVWEl6CCO+bnyUvGks/LsaQEtx0//NExH0RMf6wAAhGmSB1gIIJIRMo2F/TYyt5OlX6dI9gHLwHIqjmfAQUv7unT7mZpTyIyOJsIDi4PfRCsPTwibh9GEyWnvJfmTXPLywQw8NDwLj3yOTWABIS9iGGFsiL//NExIsR0hKgAAiGmNGrou6Fx7/LoUAIh6tLlIQJIUKynD9LFd6bIvt+NFj/+/Gf29kqFP9ecKwDDWZwULTQaAwKDYDo0BcfUcp/z/83/wk/Quw4QGGvS99c+VXpj4Bo//NExJYR4X6oAGDGlGCaWzCMAhahpL5oPn8Xei+eNt4mDVlioAlA2MjAPxImijMkwvZQaX0Avh+yDI+s961e7V5NbWsfEzqDni5+pal7WhEZU9LeuRNJQ1mafLLgkwp///NExKESYYK0AMsQlFVLkDMfV11RgIeUqAxxgfHiKxQlAChwIYcC4CoNAAo4YzcWutTX//8r/x6+1MczioCflQVVf0vQ5xCBGT2B242KgzLgEBAQREhwvUCo6Q4Yj0O4//NExKoQoZa4AKHalNSaVLzxfo8z2/GVuf1pntrLMS6FTLRk2kjcCZU1bYvcx35buEQNCIKCwFSsigqKkRoXXMEADR5g8lGQbRcU5R5bxkzgu7MRqtf1Xs6rfr9nhbTw//NExLoSEaaoAMDQlEinTjYhGB0CgyPBZ2pj6JKaRjw0SagbdsVb7G+j++r2KZoqAEhfAVxLfGEYhKHmqAeKm4U9tH8X7PWSdW4BYWEu6PDtYqNKh2u4HqQSeSI4jg1D//NExMQSqQ5oANrYcPmKl0rkwUwViACAwQTXS6buWo+oYPxI6HMOq70aIh+H0ulNE56lzRpv9/z3HaOmNlp3ooeIwzFWFqWhscpwvU//ronel3PMeOU+ARJOvbNPC2AQ//NExMwSEH5QAVsQAMhaCL4yxyjHPaFMWHUriwkj1q9a57+8erP94t728alN3pneY8TxfFxar9ZneWfUaF9UumJ+IYJhJArHf0+aJ5DGBUSqgykIaHCAzNnpTX3m+sX1//NExNYfawJMAZlAAag1xl6utMlNbha1aJu/3T6/8GtfXNt/7+sb9vDwwNtyGZheCQ2l9Z0VED3I+/lEoGGRgPTw0/zuxlxANQh38dTdvn7+rMf+iUPMil1pFF+5ZXqR//NExKshAmKYAZl4ABun0jhkUAy8OEnSBEYfAXkgBQIETRGCIjSHKLxwqDvEwNmNDMY8nFJOXhaywZThkPgaKRoYE4dGYOJpGZDTZTJ1NvUj7N/+pTf/99STPVYzUylu//NExHog2saYAdqQAXTaaVeeBga6pGqrhn9cUDB5an12kIQAlZ1//H38mzXybKvUQw16iYNn0C4bczHPIkuiRcMRiDTM0TFCAQy8Q1AkxgwJmMpR4nkQB3iYkqcUJ4JK//NExEkg6vKcANQauV0xpjjGGdlEmO8YIeKZkbnxKxtLJJj3HEy1pppe6knoFxH7f9X//6qXQRRUgX00amQQ0mQQTmitOkE9wz1dfAESIRd5eaWBW1m/+J8O3OHbnDec//NExBgXobasAMielN1Z/+b1zulGN5fNms2hYjKjqM+DpT17sZlnIcS0xscZmnkeajvb/DxvpJAePXJ87Z2dshxbx4poU6bkP//9jVn3xmlDRj6V1n+4mLbnJXlKlVS///NExAwSaaq4AMBYlFb/xlwGuAuRhy+X5mZnJ/37MtJi4jJiMikUKCSWm2iktLa340aytrxsTFBA5VY1RDs36Jl92Nu4I/2f//9K1381ZU4qXCJl3AyUixzlYlshu5f///NExBURUa64AMCYlP+vMzM7vZ0OI33i+wNxNK44DyuLTLB36pC6Dl0FWMq3j8Gt0fhxh/2Y2n/+INnneurf6qjiIV8dCoy7UDcwinfz5v///zMzP/N7a7r6g58eiaLw//NExCIRWa60AMBYlFRS+WU7J4X9jtWOCmsXcitzL8GsK7mlTa57619qIRD////9Ff510BJt649I8itZmmizv/Pny//////+vcpSVImSrAMog6DYIGmDx1iDBCokulNV//NExC8RAaqwAMBSlDUtWLdLUjRLYmFeLmoGpjhn///6KaHDFYJZtxn5nuLFl0wmgzbPYuXA5///////19hWvgdVHA2CoDqAyYIDqJGkmiJ92LCftyd085KDRZYQQFtI//NExD4RuaKoAMBSlHAgdF//////0LHbpVC+UQKqRvDoyu25tNUkzkHNf//////X3clKdSKnRKiEQAREkiIYJFzBMaZWTcm7NQ3iz/AVcqcJyImBYXTg0JS3Z///2f/T//NExEoSeaqcAMBSlHYnn3RCt0Q7aBqYCTLaDUqS+dEAW9T+f///3/9rcotiY8JQyEFCICUqDaRg2mRYmLiV7Wphpkkk+gVDSpxFn///llf6gm4aWnDqOyYKzV9CS1IK//NExFMRuaKIAMhQlGq0WuwAzqNy0SJ0dWR7J/5dv//iusofJByiwdC4qQLAuB0PmmvWiqa/i9eGldnDk4kGqCx2Ir////Jf+VOh2iCEaSLnAa+JLuUrtMGkEaxIIhFQ//NExF8SoaZkAMCQlDIiJxH9z3s2iUNfQs5FZjPW4UYGxQFXo3VPik0LI1UJ0z27F8zfqS9emi2x1CV1B9BCct4CltMYo053MEFDilAzEIBAEBQkoGBYWrSXGOAgqOsU//NExGcQmRZIAMhEcHWCsXngcPLdzhmwqgLIVW9l6FsCoWTS/80oVR1Wp1O/ZQopOHdIkPU5kHYzdPGMsNX7GOe/3vueesMDAxbh3c6hJh/dxGQnyDd4acbs6mpD9Rij//NExHcRWD5MAMYGBK0UqU5kCJy9br2lzZuP6tBxwXxeqKMuMBi0UnB4FuZd3ThtlQPH+tBfNtbpF0nOPUnF9OS6JJF4fjF1EkXCUHIeTEyC2l0T0kC+QQrR+HGybppy//NExIQSgL5QAVgYAFTxkik6RYaVpPv0zKg60zQ2MZ4mG+rbuxkXa0VSWK5qcc3THn/+p6VS1+bj0MzZNzpwc5k5z//2o0tV7uvRWSpu6nNGUg5mX5gJawMBIBC4zUr+//NExI0ggyqMAY9oALn5f/M8qj4+cosICpCzJEuYbjLJxn6bbxerhijoeeqxqcNThGXYy89VCFTvVIVlOhcsjJPGkE5oHNQYnNLW2oIaxgbWxNdIueRXBbZrNpKmFiQ5//NExF4gCxKcAcNIATJEKIZCwlbkcG0TBIVIqI5CtvLJ6ZFauIFFsIPTCryqIxJV4Oc2dFPqX1yV/9ZQQoyh2GMxSGahCFYMd41ec5HL9bb5M/MzfppNco3N9g76Vmm2//NExDAduxqcAAiYvazlMrNH8Zb3725t3zRxCLpweK24vSnsayzj6JGYGEaxc06SCsfGKFcxOsL6RnmXAbNmJgdSjQ1hLNCWmKEZufqCENZGo1FIDs3/b////edM9k65//NExAwVOyKkABBQvGEpxTx1Wy/uf+eP5v7iZjZVr+uJjmrjrTvqFqin4UbBW0cdTWSwsxGqC8KRkm59iRcVh0oPhwtQikiASaHAwFooHotFi4hCEbUz////y//5rz/l//NExAoRKx6oAAhKvMuSTnBv6W66v/79LNe9De03dKI5nK7FEhU9TOyUjVkczSGMLEElZXQSpYRGTixjEdlcgEHjyuAo8guqM////9f////+UzMzv/9H9v623o/9af17//NExBgQ8xqsAAhKvV2dZxZBAXcdNIgpU8jFUkphVJYcKxzOcqlU4kUhwEHsHg+NirIJiQoqiI1eL/////r/lB+X/fzAfb7/u//+f/9raP+v4++f6uqTnjnS6c01mFda//NExCcSExqkAAhQva26SO4upxxxNFOaWx1VwYUNmR8McaMcVNooUwdY40GpaaqFr//////6/6dN6orv2/6ap29/50qn9/ohOSrIdKqqJZnawkOMlj3WaRWIIqQRY7CA//NExDERexqkAUEoAbBypxIXQqijidofMJHAUQHCQdESSwKsFvLulE9xu7uX1VfVOrnj791N2ISxz221GHw6bQawpapEo7W3FPuEa0aZKnUKmKqK1/ULHE64tqPTzrnc//NExD4gCyqYAYJYAO9BBMuHYYuMUGE44ZJnXh0b1yjhU8cgmLngSnus6XDvMSgrNEV1iqwIPKE1SRUEhM+iXm40hz9zCUQK1Og1aZBsQar///+Z//9DGL/0MYz/1b////NExBAP+wZ8AcEQAf/lKUpTf8pSlKUpTP/lKUpS/QxjGMUoUBKVv5SlKYxgwEBAQEBAJS/T8pSmAgICG1izX11UZJuD395GRa1LCyHyeSlITsf8YymWZeXVUFRKmSow//NExCMQURoYADDGcHoW5DLS/RUODUtrLJyqBU6JQ7csWH2qruYWdqZ4+tWBzPkzOZqgYkKV4ZUEbRrVqA4rGhzYM+xCoPMvzLK7VQokKlmtLMjBA6w9WosWEQhDSAVB//NExDQSgUH8ADDGcFHFkmWHa410rWsFVdRUNeDT2uV7lgEIggIg+D40Hw+UDKgQYXBBhcm0uToPqEAYKAgGC4PnBOD59h/5cnT/X4gcsH3lwfPw+///UCEQOh6Jz8H3//NExD0PuA3sABhEAKgwiEBAQpiUGjwlDSwVcDQNQaBqJg7Ep1YKuBoGRgNA0PBoGngqC3qBp5UFv6PBqIgaWCwNQVBX+CrvrBU6oFTpYGoNPEoKwVBWTEFNTEFNRTMu//NExFER8B3gAAiCADEwMKqqqqqqqqqqqqqqqqqqqqqqqqqqqqqqqqqqqqqqqqqqqqqqqqqqqqqqqqqqqqqqqqqqqqqqqqqqqqqqqqqqqqqqqqqqqqqqqqqqTEFNRTMu//NExFwAAANIAAAAADEwMKqqqqqqqqqqqqqqqqqqqqqqqqqqqqqqqqqqqqqqqqqqqqqqqqqqqqqqqqqqqqqqqqqqqqqqqqqqqqqqqqqqqqqqqqqqqqqqqqqqTEFNRTMu//NExKwAAANIAAAAADEwMKqqqqqqqqqqqqqqqqqqqqqqqqqqqqqqqqqqqqqqqqqqqqqqqqqqqqqqqqqqqqqqqqqqqqqqqqqqqqqqqqqqqqqqqqqqqqqqqqqqTEFNRTMu//NExKwAAANIAAAAADEwMKqqqqqqqqqqqqqqqqqqqqqqqqqqqqqqqqqqqqqqqqqqqqqqqqqqqqqqqqqqqqqqqqqqqqqqqqqqqqqqqqqqqqqqqqqqqqqqqqqqTEFNRTMu//NExKwAAANIAAAAADEwMKqqqqqqqqqqqqqqqqqqqqqqqqqqqqqqqqqqqqqqqqqqqqqqqqqqqqqqqqqqqqqqqqqqqqqqqqqqqqqqqqqqqqqqqqqqqqqqqqqqTEFNRTMu//NExKwAAANIAAAAADEwMKqqqqqqqqqqqqqqqqqqqqqqqqqqqqqqqqqqqqqqqqqqqqqqqqqqqqqqqqqqqqqqqqqqqqqqqqqqqqqqqqqqqqqqqqqqqqqqqqqqTEFNRTMu//NExKwAAANIAAAAADEwMKqqqqqqqqqqqqqqqqqqqqqqqqqqqqqqqqqqqqqqqqqqqqqqqqqqqqqqqqqqqqqqqqqqqqqqqqqqqqqqqqqqqqqqqqqqqqqqqqqqq0lVkLRk//NExKwAAANIAAAAAHx8SCsgOrITR4MBxQXIdNjors7O7Hbs7t/1RTFHjhwuKHRTFHuzs7Oz7CdXV7mbGUZMvcw2gXUTWZe9z81z3PNkiNQqREo8ODgnJEaiazL3ue7c//NExKwAAANIAAAAAHue9hGomsy05zbC9XKO7k4XUdzJwnVyZe904ThP/YXUZMvQERgOSGA4oMAxA4IByQwHKDBYGkEHnIEylIH0hdZbbD7//2fYfYfbh9h9i5TMfYeo//NExKwAAANIAAAAAInYfYtth2y2fbZ9h6QPlZAtJA85AgWsIFkhgOcHAAGkEA5IYDiQ4AFpBAOSGAgGHCBaQQDnDyBayB6SB8pmSuH2Gy2y2y32H1A+kDJTIFrIH0mY//NExP8fQxlIAElSvWrIFpIB9QjAoBgewDnQIGhXHyEn+s7sqEEUDwiUWIcO5ohaIm7v7u8CABBwNQ4tBFA2QdCd1GLbzahaN6jGw9Qy0ez33OSBBaBy7cEEV343Oqjr//NExNUh2xXIADGMufCPShI4Vo5Qf+30EE35uQ293F/JjEeoGEkDkbfudEbaiDJ7XhCC5G2UDDgoSHRW0gJJr5mrzphVJETYnpLUwTpnNFoTqhaldev3BYKJgEYUTAok//NExKAhMxHMAGDSuZmPVWOqX8UmZqAiYAkGFUBgE4YwpBkjSMTFORgkkWS3tsotWN5YlppFyKjknIonEcqvOVTEiRYBROJXWyxLTUWn08+t/anNwkkaSsijWyxLDiTk//NExG4guw3cAHjMuXK168kcJBVgFISEmAJZEi0zOUkGyBJR3FGTgvZimUcpvG8ep6H+oFtxcoslFxeb///3////7O1TTs7OzXC0SRooDAxBNAcEgwkCAjzE1JGnFu1x//NExD4hixkUAHmMvb/3lnZ43KqaNKLMPhnZ2dniLxIiSEgQsDMPQWicaUU7Ozs7NakiIMJAgMDEHoLRONKZ23//5spERQkCFnmWpKTi2Z6mjTizBNVMQU1FMy4xMDBV//NExAoAAANIAAAAAFVVVVVVVVVVVVVVVVVVVVVVVVVVVVVVVVVVVVVVVVVVVVVVVVVVVVVVVVVVVVVVVVVVVVVVVVVVVVVVVVVVVVVVVVVVVVVVVVVVVVVVVVVVVVVV\" type=\"audio/mpeg\" />\n",
       "                    Your browser does not support the audio element.\n",
       "                </audio>\n",
       "              "
      ],
      "text/plain": [
       "<IPython.lib.display.Audio object>"
      ]
     },
     "execution_count": 6,
     "metadata": {},
     "output_type": "execute_result"
    }
   ],
   "source": [
    "import IPython.display as display\n",
    "\n",
    "# audio\n",
    "display.Audio(\"/kaggle/working/welcome.mp3\", autoplay=True)\n"
   ]
  },
  {
   "cell_type": "code",
   "execution_count": null,
   "id": "215c55a3",
   "metadata": {},
   "outputs": [],
   "source": []
  }
 ],
 "metadata": {
  "kaggle": {
   "accelerator": "gpu",
   "dataSources": [
    {
     "datasetId": 4688003,
     "sourceId": 8197989,
     "sourceType": "datasetVersion"
    }
   ],
   "isGpuEnabled": true,
   "isInternetEnabled": true,
   "language": "python",
   "sourceType": "notebook"
  },
  "kernelspec": {
   "display_name": "Python 3 (ipykernel)",
   "language": "python",
   "name": "python3"
  },
  "language_info": {
   "codemirror_mode": {
    "name": "ipython",
    "version": 3
   },
   "file_extension": ".py",
   "mimetype": "text/x-python",
   "name": "python",
   "nbconvert_exporter": "python",
   "pygments_lexer": "ipython3",
   "version": "3.12.3"
  }
 },
 "nbformat": 4,
 "nbformat_minor": 5
}
